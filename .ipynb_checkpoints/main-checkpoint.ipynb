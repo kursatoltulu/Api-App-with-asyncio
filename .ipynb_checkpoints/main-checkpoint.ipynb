{
 "cells": [
  {
   "cell_type": "code",
   "execution_count": 1,
   "id": "cf9c9d9d",
   "metadata": {},
   "outputs": [
    {
     "name": "stdout",
     "output_type": "stream",
     "text": [
      "Collecting asyncio\n",
      "  Downloading asyncio-3.4.3-py3-none-any.whl (101 kB)\n",
      "     ------------------------------------ 101.8/101.8 kB 973.7 kB/s eta 0:00:00\n",
      "Collecting aiohttp\n",
      "  Downloading aiohttp-3.8.4-cp39-cp39-win_amd64.whl (323 kB)\n",
      "     -------------------------------------- 323.6/323.6 kB 3.3 MB/s eta 0:00:00\n",
      "Collecting multidict<7.0,>=4.5\n",
      "  Downloading multidict-6.0.4-cp39-cp39-win_amd64.whl (28 kB)\n",
      "Collecting aiosignal>=1.1.2\n",
      "  Downloading aiosignal-1.3.1-py3-none-any.whl (7.6 kB)\n",
      "Collecting frozenlist>=1.1.1\n",
      "  Downloading frozenlist-1.3.3-cp39-cp39-win_amd64.whl (34 kB)\n",
      "Collecting yarl<2.0,>=1.0\n",
      "  Downloading yarl-1.8.2-cp39-cp39-win_amd64.whl (56 kB)\n",
      "     ---------------------------------------- 56.8/56.8 kB ? eta 0:00:00\n",
      "Requirement already satisfied: attrs>=17.3.0 in c:\\users\\kursa\\anaconda3\\lib\\site-packages (from aiohttp) (21.4.0)\n",
      "Collecting async-timeout<5.0,>=4.0.0a3\n",
      "  Downloading async_timeout-4.0.2-py3-none-any.whl (5.8 kB)\n",
      "Requirement already satisfied: charset-normalizer<4.0,>=2.0 in c:\\users\\kursa\\anaconda3\\lib\\site-packages (from aiohttp) (2.0.4)\n",
      "Requirement already satisfied: idna>=2.0 in c:\\users\\kursa\\anaconda3\\lib\\site-packages (from yarl<2.0,>=1.0->aiohttp) (3.4)\n",
      "Installing collected packages: asyncio, multidict, frozenlist, async-timeout, yarl, aiosignal, aiohttp\n",
      "Successfully installed aiohttp-3.8.4 aiosignal-1.3.1 async-timeout-4.0.2 asyncio-3.4.3 frozenlist-1.3.3 multidict-6.0.4 yarl-1.8.2\n",
      "Note: you may need to restart the kernel to use updated packages.\n"
     ]
    }
   ],
   "source": [
    "pip install asyncio aiohttp"
   ]
  },
  {
   "cell_type": "code",
   "execution_count": 14,
   "id": "1b993bcb",
   "metadata": {},
   "outputs": [],
   "source": [
    "import asyncio\n",
    "import aiohttp\n",
    "import csv\n",
    "\n",
    "\n",
    "#The function sends an  GET request to the URL using the session, \n",
    "#and returns the response data as a JSON object.\n",
    "async def fetch_data(url):\n",
    "    async with aiohttp.ClientSession() as session:#to send multiple requests in the same session\n",
    "        async with session.get(url) as response:\n",
    "            data = await response.json()\n",
    "            return data\n",
    "\n",
    " \"\"\"Saves the given data to a CSV file with the given filename.\"\"\"\n",
    "async def save_data_to_csv(data, file_name):\n",
    "    with open(file_name, mode='w', newline='') as csv_file:\n",
    "        fieldnames = data[0].keys()\n",
    "        writer = csv.DictWriter(csv_file, fieldnames=fieldnames)\n",
    "        writer.writeheader()\n",
    "        for row in data:\n",
    "            writer.writerow(row)\n",
    "\n",
    "async def main():\n",
    "    product_url = 'https://fakestoreapi.com/products'\n",
    "    user_url = 'https://fakestoreapi.com/users'\n",
    "\n",
    "    tasks = [\n",
    "        asyncio.create_task(fetch_data(product_url)),\n",
    "        asyncio.create_task(fetch_data(user_url))\n",
    "    ]\n",
    "#running two tasks simultaneously\n",
    "    data = await asyncio.gather(*tasks)\n",
    "\n",
    "    product_data = data[0]\n",
    "    user_data = data[1]\n",
    "\n",
    "    await save_data_to_csv(product_data, 'products.csv')\n",
    "    await save_data_to_csv(user_data, 'users.csv')\n",
    "\n",
    "await main()  \n",
    "\n",
    " \"\"\"Jupyter notebook kullandığım için ipykernel farkından dolayı main() methodunu yukarıda olduğu şekilde çalıştırdım.\n",
    "Derleyici farklına göre aşağıdaki kod bloğu tercih edilebilir. \"\"\"\n",
    "\n",
    " \"\"\" \n",
    "if __name__ == \"__main__\":\n",
    "   asyncio.run(main())\n",
    " \"\"\"\n"
   ]
  },
  {
   "cell_type": "code",
   "execution_count": null,
   "id": "d6a38a72",
   "metadata": {},
   "outputs": [],
   "source": []
  }
 ],
 "metadata": {
  "kernelspec": {
   "display_name": "Python 3 (ipykernel)",
   "language": "python",
   "name": "python3"
  },
  "language_info": {
   "codemirror_mode": {
    "name": "ipython",
    "version": 3
   },
   "file_extension": ".py",
   "mimetype": "text/x-python",
   "name": "python",
   "nbconvert_exporter": "python",
   "pygments_lexer": "ipython3",
   "version": "3.9.7"
  }
 },
 "nbformat": 4,
 "nbformat_minor": 5
}
